{
  "nbformat": 4,
  "nbformat_minor": 0,
  "metadata": {
    "colab": {
      "provenance": [],
      "authorship_tag": "ABX9TyP7u7kdNM+khfAP/56mdTvP",
      "include_colab_link": true
    },
    "kernelspec": {
      "name": "python3",
      "display_name": "Python 3"
    },
    "language_info": {
      "name": "python"
    }
  },
  "cells": [
    {
      "cell_type": "markdown",
      "metadata": {
        "id": "view-in-github",
        "colab_type": "text"
      },
      "source": [
        "<a href=\"https://colab.research.google.com/github/cristianomozart/Testing/blob/main/PythonBasics.ipynb\" target=\"_parent\"><img src=\"https://colab.research.google.com/assets/colab-badge.svg\" alt=\"Open In Colab\"/></a>"
      ]
    },
    {
      "cell_type": "code",
      "execution_count": 1,
      "metadata": {
        "id": "Ap_92_TxUk3b"
      },
      "outputs": [],
      "source": [
        "import math"
      ]
    },
    {
      "cell_type": "code",
      "source": [
        "print(math.sqrt(16))"
      ],
      "metadata": {
        "colab": {
          "base_uri": "https://localhost:8080/"
        },
        "id": "XV9nY9wEnOEA",
        "outputId": "36420341-2d17-42e3-dd38-aa8ee463bad1"
      },
      "execution_count": 2,
      "outputs": [
        {
          "output_type": "stream",
          "name": "stdout",
          "text": [
            "4.0\n"
          ]
        }
      ]
    },
    {
      "cell_type": "code",
      "source": [
        "!pip install pandas"
      ],
      "metadata": {
        "colab": {
          "base_uri": "https://localhost:8080/"
        },
        "id": "79QGbONAnqfC",
        "outputId": "63f7ad74-ec96-4cca-c528-729170eb1e87"
      },
      "execution_count": 3,
      "outputs": [
        {
          "output_type": "stream",
          "name": "stdout",
          "text": [
            "Requirement already satisfied: pandas in /usr/local/lib/python3.10/dist-packages (1.5.3)\n",
            "Requirement already satisfied: python-dateutil>=2.8.1 in /usr/local/lib/python3.10/dist-packages (from pandas) (2.8.2)\n",
            "Requirement already satisfied: pytz>=2020.1 in /usr/local/lib/python3.10/dist-packages (from pandas) (2023.4)\n",
            "Requirement already satisfied: numpy>=1.21.0 in /usr/local/lib/python3.10/dist-packages (from pandas) (1.25.2)\n",
            "Requirement already satisfied: six>=1.5 in /usr/local/lib/python3.10/dist-packages (from python-dateutil>=2.8.1->pandas) (1.16.0)\n"
          ]
        }
      ]
    },
    {
      "cell_type": "code",
      "source": [
        "import pandas as pd\n",
        "data = {'name':['John', 'Ana', 'Peter'], 'Age': [20, 30,40]}\n",
        "df = pd.DataFrame(data)\n",
        "print(df)"
      ],
      "metadata": {
        "colab": {
          "base_uri": "https://localhost:8080/"
        },
        "id": "c0ZQIutvn65S",
        "outputId": "25cd0f5e-c10d-4687-9ee9-6c6ba40e101f"
      },
      "execution_count": 4,
      "outputs": [
        {
          "output_type": "stream",
          "name": "stdout",
          "text": [
            "    name  Age\n",
            "0   John   20\n",
            "1    Ana   30\n",
            "2  Peter   40\n"
          ]
        }
      ]
    },
    {
      "cell_type": "code",
      "source": [
        "greeting = 'Hello Data Scientist, '\n",
        "print(greeting)"
      ],
      "metadata": {
        "colab": {
          "base_uri": "https://localhost:8080/"
        },
        "id": "_zTlQKcOqktJ",
        "outputId": "cc930b36-44d8-4d55-f41f-c4a3d2a8a0a6"
      },
      "execution_count": 5,
      "outputs": [
        {
          "output_type": "stream",
          "name": "stdout",
          "text": [
            "Hello Data Scientist\n"
          ]
        }
      ]
    },
    {
      "cell_type": "markdown",
      "source": [
        "Now lets talk about strings"
      ],
      "metadata": {
        "id": "NS2TiTT08H1z"
      }
    },
    {
      "cell_type": "code",
      "source": [
        "name = ' Mozart'\n",
        "sentence = greeting + name\n",
        "print(sentence)"
      ],
      "metadata": {
        "colab": {
          "base_uri": "https://localhost:8080/"
        },
        "id": "dJBuUjs2qvw8",
        "outputId": "d8bdfe06-5768-4e83-944b-28a70cd2ac17"
      },
      "execution_count": 8,
      "outputs": [
        {
          "output_type": "stream",
          "name": "stdout",
          "text": [
            "Hello Data Scientist Mozart\n"
          ]
        }
      ]
    },
    {
      "cell_type": "code",
      "source": [
        "new_string = greeting.replace('Hi', 'Hello')\n",
        "print (new_string)"
      ],
      "metadata": {
        "colab": {
          "base_uri": "https://localhost:8080/"
        },
        "id": "YgvgYs0LrR0B",
        "outputId": "59ea4482-457e-446e-ced4-23865bc79562"
      },
      "execution_count": 9,
      "outputs": [
        {
          "output_type": "stream",
          "name": "stdout",
          "text": [
            "Hello Data Scientist\n"
          ]
        }
      ]
    },
    {
      "cell_type": "code",
      "source": [
        "index = greeting.find('Data')\n",
        "print (index)"
      ],
      "metadata": {
        "colab": {
          "base_uri": "https://localhost:8080/"
        },
        "id": "wKHJLX1nrmDM",
        "outputId": "d0a410d5-f3ed-4a78-b97c-b5c9e389f076"
      },
      "execution_count": 10,
      "outputs": [
        {
          "output_type": "stream",
          "name": "stdout",
          "text": [
            "6\n"
          ]
        }
      ]
    },
    {
      "cell_type": "code",
      "source": [
        "extra_space = '      Hi Data Scientist    '\n",
        "print(extra_space)\n",
        "strip_extra_space = extra_space.strip()\n",
        "print(strip_extra_space)"
      ],
      "metadata": {
        "colab": {
          "base_uri": "https://localhost:8080/"
        },
        "id": "3CWzBXWurwtA",
        "outputId": "276b8709-6c9b-4d74-a9ab-5bab43c01748"
      },
      "execution_count": 11,
      "outputs": [
        {
          "output_type": "stream",
          "name": "stdout",
          "text": [
            "      Hi Data Scientist    \n",
            "Hi Data Scientist\n"
          ]
        }
      ]
    },
    {
      "cell_type": "code",
      "source": [
        "format_meta = 'Hello {}'\n",
        "print (format_meta.format('Mozart'))"
      ],
      "metadata": {
        "colab": {
          "base_uri": "https://localhost:8080/"
        },
        "id": "YptLzrObsVi0",
        "outputId": "d7e22f95-0df2-42da-8177-caae2482d218"
      },
      "execution_count": 12,
      "outputs": [
        {
          "output_type": "stream",
          "name": "stdout",
          "text": [
            "Hello Mozart\n"
          ]
        }
      ]
    },
    {
      "cell_type": "code",
      "source": [
        "upper_case = greeting.upper()\n",
        "print(upper_case)"
      ],
      "metadata": {
        "colab": {
          "base_uri": "https://localhost:8080/"
        },
        "id": "RoMZeng2s9I3",
        "outputId": "5b9d9fc3-400d-400f-efd5-6f450ede31bf"
      },
      "execution_count": 13,
      "outputs": [
        {
          "output_type": "stream",
          "name": "stdout",
          "text": [
            "HELLO DATA SCIENTIST\n"
          ]
        }
      ]
    },
    {
      "cell_type": "code",
      "source": [
        "lower_case = greeting.lower()\n",
        "print(lower_case)"
      ],
      "metadata": {
        "colab": {
          "base_uri": "https://localhost:8080/"
        },
        "id": "RiGRPbRUtFsk",
        "outputId": "5c443b05-1916-4b42-f093-4889f26e4ae8"
      },
      "execution_count": 16,
      "outputs": [
        {
          "output_type": "stream",
          "name": "stdout",
          "text": [
            "hello data scientist\n"
          ]
        }
      ]
    },
    {
      "cell_type": "code",
      "source": [
        "# Python code​​​​​​‌​‌​‌‌​‌​‌​​​​​‌‌‌‌​​​‌‌​ below\n",
        "# Use print(\"messages...\") to debug your solution.\n",
        "\n",
        "show_expected_result = False\n",
        "show_hints = False\n",
        "\n",
        "\n",
        "\n",
        "def reverse_string(text):\n",
        "    # Your code goes here.\n",
        "    #Reverses a string using slicing.\n",
        "    return  text [:: -1]\n",
        "\n",
        "input = \"A reverse String\"\n",
        "reversed_text = reverse_string(input)\n",
        "print (reversed_text)"
      ],
      "metadata": {
        "id": "c6xK3HLHCgc9"
      },
      "execution_count": null,
      "outputs": []
    },
    {
      "cell_type": "code",
      "source": [
        "def reverse_string(text):\n",
        "  \"\"\"Reverses a string using the reversed() function.\"\"\"\n",
        "  return ''.join(reversed(text))\n",
        "\n",
        "# Example usage\n",
        "text = \"hello world\"\n",
        "reversed_text = reverse_string(text)\n",
        "print(reversed_text)  # Output: \"dlrow olleh\""
      ],
      "metadata": {
        "id": "l2AkfIkuCkxx"
      },
      "execution_count": null,
      "outputs": []
    },
    {
      "cell_type": "markdown",
      "source": [
        "Another way to reverse"
      ],
      "metadata": {
        "id": "l_7T5-oICpod"
      }
    },
    {
      "cell_type": "markdown",
      "source": [
        "Reversing strings"
      ],
      "metadata": {
        "id": "d72d07U-Chm5"
      }
    },
    {
      "cell_type": "code",
      "source": [
        "employee = (12, \"Mozart\", \"92514516\" )\n",
        "print (employee)"
      ],
      "metadata": {
        "id": "Cap4DxKjJuuC",
        "outputId": "dc3f8058-89fa-41c8-8eb0-fddeaf450add",
        "colab": {
          "base_uri": "https://localhost:8080/"
        }
      },
      "execution_count": 1,
      "outputs": [
        {
          "output_type": "stream",
          "name": "stdout",
          "text": [
            "(12, 'Mozart', '92514516')\n"
          ]
        }
      ]
    },
    {
      "cell_type": "markdown",
      "source": [
        "Tuples = ordered, immutable, allow duplicates"
      ],
      "metadata": {
        "id": "cZiYW-a7J2eI"
      }
    },
    {
      "cell_type": "code",
      "source": [
        "tasks = ['development', 'testing', 'monitoring']\n",
        "print (tasks)"
      ],
      "metadata": {
        "id": "bQATgmArifAW",
        "outputId": "5c40a12a-4fa5-459d-be0f-bef05c23705a",
        "colab": {
          "base_uri": "https://localhost:8080/"
        }
      },
      "execution_count": 2,
      "outputs": [
        {
          "output_type": "stream",
          "name": "stdout",
          "text": [
            "['development', 'testing', 'monitoring']\n"
          ]
        }
      ]
    },
    {
      "cell_type": "markdown",
      "source": [
        "list = ordered, mutable, allow duplicates"
      ],
      "metadata": {
        "id": "RZtyEWTiiq8r"
      }
    },
    {
      "cell_type": "code",
      "source": [
        "print (tasks[1])"
      ],
      "metadata": {
        "id": "TiSGOWuojCQL",
        "outputId": "8d5edc95-7e20-476f-dce3-fd82fc831894",
        "colab": {
          "base_uri": "https://localhost:8080/"
        }
      },
      "execution_count": 3,
      "outputs": [
        {
          "output_type": "stream",
          "name": "stdout",
          "text": [
            "testing\n"
          ]
        }
      ]
    },
    {
      "cell_type": "code",
      "source": [
        "tasks[1] = 'substitute an element in the list'\n",
        "print (tasks)"
      ],
      "metadata": {
        "id": "jwQLqXWZjNMO",
        "outputId": "be65ab75-b742-4c6a-bde7-bc2f768b4cc2",
        "colab": {
          "base_uri": "https://localhost:8080/"
        }
      },
      "execution_count": 6,
      "outputs": [
        {
          "output_type": "stream",
          "name": "stdout",
          "text": [
            "['development', 'substitute an element in the list', 'monitoring']\n"
          ]
        }
      ]
    },
    {
      "cell_type": "code",
      "source": [
        "tasks.append('add an element')\n",
        "print (tasks)"
      ],
      "metadata": {
        "id": "l-4K3KgzjY0L",
        "outputId": "b964702c-3b05-4c0b-8906-599ac1872c20",
        "colab": {
          "base_uri": "https://localhost:8080/"
        }
      },
      "execution_count": 7,
      "outputs": [
        {
          "output_type": "stream",
          "name": "stdout",
          "text": [
            "['development', 'substitute an element in the list', 'monitoring', 'add an element']\n"
          ]
        }
      ]
    },
    {
      "cell_type": "code",
      "source": [
        "tasks.insert(1, 'adding in this position without substituting the one was before')\n",
        "print (tasks)"
      ],
      "metadata": {
        "id": "bPj3-rh-kFDf",
        "outputId": "15c70c3e-3a34-4738-f10c-e6d3cb091d63",
        "colab": {
          "base_uri": "https://localhost:8080/"
        }
      },
      "execution_count": 8,
      "outputs": [
        {
          "output_type": "stream",
          "name": "stdout",
          "text": [
            "['development', 'adding in this position without substituting the one was before', 'substitute an element in the list', 'monitoring', 'add an element']\n"
          ]
        }
      ]
    },
    {
      "cell_type": "code",
      "source": [
        "tasks.remove('development')\n",
        "print(tasks)"
      ],
      "metadata": {
        "id": "jVFNX0UQkcaT",
        "outputId": "d4e462ef-9650-48d8-a580-fcddab04c273",
        "colab": {
          "base_uri": "https://localhost:8080/"
        }
      },
      "execution_count": 9,
      "outputs": [
        {
          "output_type": "stream",
          "name": "stdout",
          "text": [
            "['adding in this position without substituting the one was before', 'substitute an element in the list', 'monitoring', 'add an element']\n"
          ]
        }
      ]
    },
    {
      "cell_type": "code",
      "source": [
        "tasks.pop(0)\n",
        "print(tasks)"
      ],
      "metadata": {
        "id": "8w_elsEykvWt",
        "outputId": "25c0a6dd-aefc-4ba6-c84b-17d6cf2e5e77",
        "colab": {
          "base_uri": "https://localhost:8080/"
        }
      },
      "execution_count": 10,
      "outputs": [
        {
          "output_type": "stream",
          "name": "stdout",
          "text": [
            "['substitute an element in the list', 'monitoring', 'add an element']\n"
          ]
        }
      ]
    },
    {
      "cell_type": "code",
      "source": [
        "for x in tasks:\n",
        "  print(x)"
      ],
      "metadata": {
        "id": "OInXnsYYk9Is",
        "outputId": "232336ae-24e9-4e44-969c-f05f7a2c9f04",
        "colab": {
          "base_uri": "https://localhost:8080/"
        }
      },
      "execution_count": 11,
      "outputs": [
        {
          "output_type": "stream",
          "name": "stdout",
          "text": [
            "substitute an element in the list\n",
            "monitoring\n",
            "add an element\n"
          ]
        }
      ]
    },
    {
      "cell_type": "code",
      "source": [
        "sets = {'develop', 'monitor', 'test'}\n",
        "print (sets)"
      ],
      "metadata": {
        "id": "i1gndzCkla5q",
        "outputId": "3febf3dd-4e0b-471b-bf30-82a9266b7bfb",
        "colab": {
          "base_uri": "https://localhost:8080/"
        }
      },
      "execution_count": 12,
      "outputs": [
        {
          "output_type": "stream",
          "name": "stdout",
          "text": [
            "{'test', 'monitor', 'develop'}\n"
          ]
        }
      ]
    },
    {
      "cell_type": "markdown",
      "source": [
        "Sets has no order"
      ],
      "metadata": {
        "id": "DhFPqCkAmLZu"
      }
    },
    {
      "cell_type": "code",
      "source": [
        "sets = {'develop', 'monitor', 'test', 'test'}\n",
        "print(sets)"
      ],
      "metadata": {
        "id": "N_E-1jjamPBm",
        "outputId": "a80781a2-9f3b-4029-e54a-fb5e8eab9a42",
        "colab": {
          "base_uri": "https://localhost:8080/"
        }
      },
      "execution_count": 13,
      "outputs": [
        {
          "output_type": "stream",
          "name": "stdout",
          "text": [
            "{'test', 'monitor', 'develop'}\n"
          ]
        }
      ]
    },
    {
      "cell_type": "markdown",
      "source": [
        "it doesn't repeat values"
      ],
      "metadata": {
        "id": "w_xD_1tzmi6V"
      }
    },
    {
      "cell_type": "code",
      "source": [
        "sets = {'develop', 'monitor', 'test'}\n",
        "sets.add('new element')\n",
        "print (sets)"
      ],
      "metadata": {
        "id": "QW9VQbBMmpcv",
        "outputId": "8ce95988-b68b-4a93-b4ae-6dd47f96d7b8",
        "colab": {
          "base_uri": "https://localhost:8080/"
        }
      },
      "execution_count": 14,
      "outputs": [
        {
          "output_type": "stream",
          "name": "stdout",
          "text": [
            "{'test', 'monitor', 'develop', 'new element'}\n"
          ]
        }
      ]
    },
    {
      "cell_type": "code",
      "source": [
        "new_sets = {'adding 2 sets', 'using update function'}\n",
        "sets.update(new_sets)\n",
        "print(sets)"
      ],
      "metadata": {
        "id": "8GaeiLq5m2Oe",
        "outputId": "e251f5dc-2d78-42b8-e0ae-fba28edcb454",
        "colab": {
          "base_uri": "https://localhost:8080/"
        }
      },
      "execution_count": 16,
      "outputs": [
        {
          "output_type": "stream",
          "name": "stdout",
          "text": [
            "{'SIT testing', 'adding 2 sets', 'using update function', 'new element', 'unit testing', 'test', 'monitor', 'develop'}\n"
          ]
        }
      ]
    },
    {
      "cell_type": "code",
      "source": [
        "sets.remove('SIT testing')\n",
        "print(sets)"
      ],
      "metadata": {
        "id": "3665WfpYny9n",
        "outputId": "95f37fdb-a6ec-4c8f-cbbd-458cca506efc",
        "colab": {
          "base_uri": "https://localhost:8080/"
        }
      },
      "execution_count": 18,
      "outputs": [
        {
          "output_type": "stream",
          "name": "stdout",
          "text": [
            "{'adding 2 sets', 'using update function', 'new element', 'unit testing', 'test', 'monitor', 'develop'}\n"
          ]
        }
      ]
    },
    {
      "cell_type": "markdown",
      "source": [
        "Dictionaries = ordered , mutable, no duplicates"
      ],
      "metadata": {
        "id": "-FkkgsobonYJ"
      }
    },
    {
      "cell_type": "code",
      "source": [
        "dic = {'name': 'Mozart', 'city': 'Dublin', 'age': 20}\n",
        "print (dic)"
      ],
      "metadata": {
        "id": "vf6lL8w2oyEn",
        "outputId": "4621c6f9-e5a0-4e3c-efd2-1a0956114eea",
        "colab": {
          "base_uri": "https://localhost:8080/"
        }
      },
      "execution_count": 19,
      "outputs": [
        {
          "output_type": "stream",
          "name": "stdout",
          "text": [
            "{'name': 'Mozart', 'city': 'Dublin', 'age': 20}\n"
          ]
        }
      ]
    },
    {
      "cell_type": "code",
      "source": [
        "print(dic['city'])"
      ],
      "metadata": {
        "id": "vHA6lGqWpTpx",
        "outputId": "ff3078d0-c83f-4f61-cd21-b209e7bbae5b",
        "colab": {
          "base_uri": "https://localhost:8080/"
        }
      },
      "execution_count": 20,
      "outputs": [
        {
          "output_type": "stream",
          "name": "stdout",
          "text": [
            "Dublin\n"
          ]
        }
      ]
    },
    {
      "cell_type": "code",
      "source": [
        "dic.get('city')"
      ],
      "metadata": {
        "id": "WzDPKp6NpduJ",
        "outputId": "e5a26f7b-ab81-4c3d-c8ab-6359a6527536",
        "colab": {
          "base_uri": "https://localhost:8080/",
          "height": 35
        }
      },
      "execution_count": 21,
      "outputs": [
        {
          "output_type": "execute_result",
          "data": {
            "text/plain": [
              "'Dublin'"
            ],
            "application/vnd.google.colaboratory.intrinsic+json": {
              "type": "string"
            }
          },
          "metadata": {},
          "execution_count": 21
        }
      ]
    },
    {
      "cell_type": "code",
      "source": [
        "keys = dic.keys()\n",
        "print(keys)"
      ],
      "metadata": {
        "id": "JNa7U1iApiR_",
        "outputId": "38c4225f-3bea-4a90-dbd7-bf25d01c9581",
        "colab": {
          "base_uri": "https://localhost:8080/"
        }
      },
      "execution_count": 22,
      "outputs": [
        {
          "output_type": "stream",
          "name": "stdout",
          "text": [
            "dict_keys(['name', 'city', 'age'])\n"
          ]
        }
      ]
    },
    {
      "cell_type": "code",
      "source": [
        "values = dic.values()\n",
        "print (values)"
      ],
      "metadata": {
        "id": "9l3fMYyFp0MH",
        "outputId": "cedda108-f7ae-4b6d-c81a-81e23eba1c16",
        "colab": {
          "base_uri": "https://localhost:8080/"
        }
      },
      "execution_count": 23,
      "outputs": [
        {
          "output_type": "stream",
          "name": "stdout",
          "text": [
            "dict_values(['Mozart', 'Dublin', 20])\n"
          ]
        }
      ]
    },
    {
      "cell_type": "code",
      "source": [
        "dic['city'] = 'Galway'\n",
        "print (dic)"
      ],
      "metadata": {
        "id": "oQlbOCIUqKhS",
        "outputId": "9d68c249-2470-4cb6-a719-1b8561090389",
        "colab": {
          "base_uri": "https://localhost:8080/"
        }
      },
      "execution_count": 24,
      "outputs": [
        {
          "output_type": "stream",
          "name": "stdout",
          "text": [
            "{'name': 'Mozart', 'city': 'Galway', 'age': 20}\n"
          ]
        }
      ]
    },
    {
      "cell_type": "code",
      "source": [
        "dic.update({'mobile': 82324533})\n",
        "print (dic)"
      ],
      "metadata": {
        "id": "oMc8XORpqbnD",
        "outputId": "e2c8c819-0b01-45f3-f635-d3481e9233ed",
        "colab": {
          "base_uri": "https://localhost:8080/"
        }
      },
      "execution_count": 25,
      "outputs": [
        {
          "output_type": "stream",
          "name": "stdout",
          "text": [
            "{'name': 'Mozart', 'city': 'Galway', 'age': 20, 'mobile': 82324533}\n"
          ]
        }
      ]
    },
    {
      "cell_type": "code",
      "source": [
        "dic.pop('mobile')\n",
        "print(dic)"
      ],
      "metadata": {
        "id": "NFdjRgO7rIH6",
        "outputId": "099262ff-49c6-43db-df78-6390d520df70",
        "colab": {
          "base_uri": "https://localhost:8080/"
        }
      },
      "execution_count": 26,
      "outputs": [
        {
          "output_type": "stream",
          "name": "stdout",
          "text": [
            "{'name': 'Mozart', 'city': 'Galway', 'age': 20}\n"
          ]
        }
      ]
    },
    {
      "cell_type": "code",
      "source": [
        "for x in dic.keys():\n",
        "  print (dic[x])"
      ],
      "metadata": {
        "id": "BOGCAsxtrM3k",
        "outputId": "8b78a697-55f2-4d90-dfdc-f79660ad151b",
        "colab": {
          "base_uri": "https://localhost:8080/"
        }
      },
      "execution_count": 27,
      "outputs": [
        {
          "output_type": "stream",
          "name": "stdout",
          "text": [
            "Mozart\n",
            "Galway\n",
            "20\n"
          ]
        }
      ]
    },
    {
      "cell_type": "code",
      "source": [],
      "metadata": {
        "id": "1wIIcSOj5sbz"
      },
      "execution_count": null,
      "outputs": []
    }
  ]
}